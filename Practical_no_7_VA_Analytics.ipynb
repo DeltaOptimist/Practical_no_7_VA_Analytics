{
  "nbformat": 4,
  "nbformat_minor": 0,
  "metadata": {
    "colab": {
      "provenance": []
    },
    "kernelspec": {
      "name": "python3",
      "display_name": "Python 3"
    },
    "language_info": {
      "name": "python"
    }
  },
  "cells": [
    {
      "cell_type": "code",
      "source": [
        "# Video Capture and frame extraction: capture video and extract frames at regular intervals using opencv\n",
        "\n",
        "import cv2\n",
        "import os\n",
        "\n",
        "def extract_frames(video_path, output_dir, frame_interval):\n",
        "  \"\"\"\n",
        "  Captures video and extracts frames at regular intervals.\n",
        "\n",
        "  Args:\n",
        "    video_path: Path to the video file.\n",
        "    output_dir: Directory to save the extracted frames.\n",
        "    frame_interval: Interval between extracted frames (in frames).\n",
        "  \"\"\"\n",
        "\n",
        "  if not os.path.exists(output_dir):\n",
        "    os.makedirs(output_dir)\n",
        "\n",
        "  cap = cv2.VideoCapture(video_path)\n",
        "  frame_count = 0\n",
        "\n",
        "  while cap.isOpened():\n",
        "    ret, frame = cap.read()\n",
        "\n",
        "    if not ret:\n",
        "      break\n",
        "\n",
        "    if frame_count % frame_interval == 0:\n",
        "      output_path = os.path.join(output_dir, f\"frame_{frame_count}.jpg\")\n",
        "      cv2.imwrite(output_path, frame)\n",
        "\n",
        "    frame_count += 1\n",
        "\n",
        "  cap.release()\n",
        "  cv2.destroyAllWindows()\n",
        "\n"
      ],
      "metadata": {
        "id": "d5XF7958iSLQ"
      },
      "execution_count": 4,
      "outputs": []
    },
    {
      "cell_type": "code",
      "source": [
        "# Example usage:\n",
        "video_path = \"/content/5877829-hd_1080_1920_30fps.mp4\" # Replace with your video path\n",
        "output_dir = \"/content/extracted_frames_2\"\n",
        "frame_interval = 30 # Extract every 30 frames\n",
        "\n",
        "extract_frames(video_path, output_dir, frame_interval)\n",
        "\n",
        "print(\"Frame extraction completed.\")"
      ],
      "metadata": {
        "colab": {
          "base_uri": "https://localhost:8080/"
        },
        "id": "qQoL9hxAhc_G",
        "outputId": "571df537-c35e-4748-d8f6-132f7b93c42c"
      },
      "execution_count": 3,
      "outputs": [
        {
          "output_type": "stream",
          "name": "stdout",
          "text": [
            "Frame extraction completed.\n"
          ]
        }
      ]
    },
    {
      "cell_type": "code",
      "source": [],
      "metadata": {
        "id": "6DEK6dGXhenA"
      },
      "execution_count": null,
      "outputs": []
    }
  ]
}